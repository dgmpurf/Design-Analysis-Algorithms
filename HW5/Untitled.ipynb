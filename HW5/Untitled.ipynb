{
 "cells": [
  {
   "cell_type": "code",
   "execution_count": 10,
   "metadata": {},
   "outputs": [],
   "source": [
    "opstack = []  #assuming top of the stack is the end of the list"
   ]
  },
  {
   "cell_type": "code",
   "execution_count": null,
   "metadata": {},
   "outputs": [],
   "source": [
    "def opPop():\n",
    "    if (len(opstack) > 0):\n",
    "        return opstack.pop()\n",
    "    else:\n",
    "        return opstack\n",
    "    # opPop should return the popped value.\n",
    "    # The pop() function should call opPop to pop the top value from the opstack, but it will ignore the popped value."
   ]
  },
  {
   "cell_type": "code",
   "execution_count": 11,
   "metadata": {},
   "outputs": [],
   "source": [
    "def opPush(value):\n",
    "    opstack.append(value)"
   ]
  },
  {
   "cell_type": "code",
   "execution_count": null,
   "metadata": {},
   "outputs": [],
   "source": [
    "#-------------------------- 16% -------------------------------------\n",
    "# The dictionary stack: define the dictionary stack and its operations\n",
    "dictstack = []  #assuming top of the stack is the end of the list\n",
    "\n",
    "# now define functions to push and pop dictionaries on the dictstack, to \n",
    "# define name, and to lookup a name"
   ]
  },
  {
   "cell_type": "code",
   "execution_count": null,
   "metadata": {},
   "outputs": [],
   "source": [
    "def dictPop():\n",
    "    dictstack.pop()\n",
    "    # dictPop pops the top dictionary from the dictionary stack."
   ]
  },
  {
   "cell_type": "code",
   "execution_count": null,
   "metadata": {},
   "outputs": [],
   "source": [
    "def dictPush(d):\n",
    "    dictstack.append(d)\n",
    "    #dictPush pushes the dictionary ‘d’ to the dictstack. \n",
    "    #Note that, your interpreter will call dictPush only when Postscript \n",
    "    #“begin” operator is called. “begin” should pop the empty dictionary from \n",
    "    #the opstack and push it onto the dictstack by calling dictPush."
   ]
  },
  {
   "cell_type": "code",
   "execution_count": null,
   "metadata": {},
   "outputs": [],
   "source": [
    "def define(name, value):\n",
    "    newdic={}\n",
    "    newdic[name]=value\n",
    "    dictPush(newdic)\n",
    "    #dictPush()\n",
    "    #add name:value pair to the top dictionary in the dictionary stack. \n",
    "    #Keep the '/' in the name constant. \n",
    "    #Your psDef function should pop the name and value from operand stack and \n",
    "    #call the “define” function."
   ]
  },
  {
   "cell_type": "code",
   "execution_count": 14,
   "metadata": {},
   "outputs": [],
   "source": [
    "def lookup(name):\n",
    "    #searchDict in HW3\n",
    "    postName = '/' + name\n",
    "    c = 0\n",
    "    i = -1\n",
    "    while c < len(dictstack):\n",
    "        if dictstack[i].get(postName,None) is None:\n",
    "            i -= 1\n",
    "            c += 1\n",
    "        else:\n",
    "            return dictstack[i].get(postName,None)\n",
    "    print (\"Error: no name\")\n",
    "    # return the value associated with name\n",
    "    # What is your design decision about what to do when there is no definition for “name”? If “name” is not defined, your program should not break, but should give an appropriate error message."
   ]
  },
  {
   "cell_type": "code",
   "execution_count": null,
   "metadata": {},
   "outputs": [],
   "source": [
    "#--------------------------- 10% -------------------------------------\n",
    "# Arithmetic and comparison operators: add, sub, mul, eq, lt, gt \n",
    "# Make sure to check the operand stack has the correct number of parameters \n",
    "# and types of the parameters are correct.\n",
    "def add():\n",
    "    if len(opstack) > 1:\n",
    "        op2 = opPop()\n",
    "        op1 = opPop()\n",
    "        if(isinstance(op1, int) and isinstance(op2,int)):\n",
    "            opPush(op1+op2)\n",
    "        else:\n",
    "            print(\"Error: add - one of the operands is not a numerical value\")\n",
    "            opPop(op1)\n",
    "            opPush(op2)\n",
    "    else:\n",
    "        print(\"Error: add expects 2 operands\")"
   ]
  },
  {
   "cell_type": "code",
   "execution_count": null,
   "metadata": {},
   "outputs": [],
   "source": [
    "def sub():\n",
    "    if len(opstack) > 1:\n",
    "        op2 = opPop()\n",
    "        op1 = opPop()\n",
    "        if(isinstance(op1, int) and isinstance(op2,int)):\n",
    "            opPush(op1 - op2)\n",
    "        else:\n",
    "            print(\"Error: sub - one of the operands is not a numerical value\")\n",
    "            opPop(op1)\n",
    "            opPush(op2)\n",
    "    else:\n",
    "        print(\"Error: sub expects 2 operands\")"
   ]
  },
  {
   "cell_type": "code",
   "execution_count": null,
   "metadata": {},
   "outputs": [],
   "source": [
    "def mul():\n",
    "    if len(opstack) > 1:\n",
    "        op2 = opPop()\n",
    "        op1 = opPop()\n",
    "        if(isinstance(op1, int) and isinstance(op2,int)):\n",
    "            opPush(op1 * op2)\n",
    "        else:\n",
    "            print(\"Error: mul - one of the operands is not a numerical value\")\n",
    "            opPop(op1)\n",
    "            opPush(op2)\n",
    "    else:\n",
    "        print(\"Error: mul expects 2 operands\")"
   ]
  },
  {
   "cell_type": "code",
   "execution_count": null,
   "metadata": {},
   "outputs": [],
   "source": [
    "def eq():\n",
    "    if len(opstack) > 1:\n",
    "        op2 = opPop()\n",
    "        op1 = opPop()\n",
    "        if(isinstance(op1, int) and isinstance(op2,int) and op1 == op2):\n",
    "            opPush(op1 == op2)\n",
    "        elif(isinstance(op1, list) and isinstance(op2,list) and set(op1) == set(op2)):\n",
    "            opPush(op1 == op2)\n",
    "        else:\n",
    "            print(\"Error: eq - one of the operands is not a numerical value\")\n",
    "            opPop(op1)\n",
    "            opPush(op2)\n",
    "    else:\n",
    "        print(\"Error: eq expects 2 operands\")"
   ]
  },
  {
   "cell_type": "code",
   "execution_count": null,
   "metadata": {},
   "outputs": [],
   "source": [
    "def lt():\n",
    "    if len(opstack) > 1:\n",
    "        op2 = opPop()\n",
    "        op1 = opPop()\n",
    "        if(isinstance(op1, int) and isinstance(op2,int)):\n",
    "            opPush(op1 < op2)\n",
    "        else:\n",
    "            print(\"Error: lt - one of the operands is not a numerical value\")\n",
    "            opPop(op1)\n",
    "            opPush(op2)\n",
    "    else:\n",
    "        print(\"Error: lt expects 2 operands\")"
   ]
  },
  {
   "cell_type": "code",
   "execution_count": 16,
   "metadata": {},
   "outputs": [],
   "source": [
    "def gt():\n",
    "    if len(opstack) > 1:\n",
    "        op2 = opPop()\n",
    "        op1 = opPop()\n",
    "        if(isinstance(op1, int) and isinstance(op2,int)):\n",
    "            opPush(op1 > op2)\n",
    "        else:\n",
    "            print(\"Error: gt - one of the operands is not a numerical value\")\n",
    "            opPop(op1)\n",
    "            opPush(op2)\n",
    "    else:\n",
    "        print(\"Error: gt expects 2 operands\")"
   ]
  },
  {
   "cell_type": "code",
   "execution_count": null,
   "metadata": {},
   "outputs": [],
   "source": [
    "#--------------------------- 20% -------------------------------------\n",
    "# String operators: define the string operators length, get, getinterval,  putinterval, search\n",
    "def length():\n",
    "    if len(opstack) > 0:\n",
    "        op1 = opPop()\n",
    "        if isinstance(op1, str):\n",
    "            listLength = len(op1)-2\n",
    "            opPush(listLength)\n",
    "        else:\n",
    "            print(\"Error: length - one of the operands is not a numerical value\")\n",
    "            opPop(op1)\n",
    "    else:\n",
    "        print(\"Error: length expects 2 operands\")"
   ]
  },
  {
   "cell_type": "code",
   "execution_count": null,
   "metadata": {},
   "outputs": [],
   "source": [
    "def get():\n",
    "    if len(opstack) > 1:\n",
    "        op2 = opPop()\n",
    "        op1 = opPop()\n",
    "        if(isinstance(op2, int) and isinstance(op1,str)):\n",
    "            opPush(ord(op1[op2+1]))\n",
    "        else:\n",
    "            print(\"Error: get - one of the operands is not a numerical value\")\n",
    "    else:\n",
    "        print(\"Error: get expects 2 operands\")"
   ]
  },
  {
   "cell_type": "code",
   "execution_count": null,
   "metadata": {},
   "outputs": [],
   "source": [
    "def getinterval():\n",
    "    if len(opstack) > 1:\n",
    "        op3 = opPop()\n",
    "        op2 = opPop()\n",
    "        op1 = opPop()\n",
    "        if(isinstance(op3, int) and isinstance(op2,int) and isinstance(op1,str)):\n",
    "            opPush('(' + op1[op2+1:op2+op3+1] + ')')\n",
    "        else:\n",
    "            print(\"Error: getinterval - one of the operands is not a numerical value\")\n",
    "    else:\n",
    "        print(\"Error: getinterval expects 2 operands\")"
   ]
  },
  {
   "cell_type": "code",
   "execution_count": null,
   "metadata": {},
   "outputs": [],
   "source": [
    "def putinterval():\n",
    "    op1 = opPop()\n",
    "    op2 = opPop()\n",
    "    op3 = opPop()\n",
    "    if op2 < len(op3):\n",
    "        for i in op1:\n",
    "            op3[op2] = i\n",
    "            op2 += 1\n",
    "    else:\n",
    "        print(\"Error: putinterval expects 2 operands\")"
   ]
  },
  {
   "cell_type": "code",
   "execution_count": 18,
   "metadata": {},
   "outputs": [],
   "source": [
    "def search():\n",
    "    if len(opstack) > 1:\n",
    "        op0 = opPop()\n",
    "        op1 = opPop()\n",
    "        #somchar = [\"(\",\")\"]\n",
    "        #op0=''.join(m for m in op0 if not m in somchar)\n",
    "        if(isinstance(op1,str)):\n",
    "            opp0 = op0.replace('(','').replace(')','')\n",
    "            if opp0 in op1:\n",
    "                opp=op1.split(opp0,1)\n",
    "                opPush('('+opp[1])\n",
    "                opPush('('+opp0+')')\n",
    "                opPush(opp[0]+')')\n",
    "                opPush(True)\n",
    "            else:\n",
    "                opPush(op1)\n",
    "                opPush(False)\n",
    "\n",
    "        else:\n",
    "            print(\"Error: search - one of the operands is not a numerical value\")\n",
    "    else:\n",
    "        print(\"Error: search expects 2 operands\")"
   ]
  },
  {
   "cell_type": "code",
   "execution_count": null,
   "metadata": {},
   "outputs": [],
   "source": [
    "#--------------------------- 18% -------------------------------------\n",
    "# Array functions and operators:\n",
    "#      define the helper function evaluateArray\n",
    "#      define the array operators aload, astore\n",
    "def evaluateArray(aInput):\n",
    "    fucname={'add':add, 'sub':sub, 'mul':mul, 'eq':eq, 'lt':lt, 'gt':gt, 'getinterval':getinterval}\n",
    "    for i in aInput:\n",
    "        if isinstance(i,int):\n",
    "            opPush(i)\n",
    "        elif isinstance(i, bool):\n",
    "            opPush(i)\n",
    "        elif i in fucname:\n",
    "            fucname[i]()\n",
    "        elif isinstance(i, str):\n",
    "            if ('/'+i) in dictstack:\n",
    "                p = lookup(i)\n",
    "                opPush(p)\n",
    "            else:\n",
    "                opPush(i)\n",
    "    return opstack\n",
    "    #should return the evaluated array"
   ]
  },
  {
   "cell_type": "code",
   "execution_count": null,
   "metadata": {},
   "outputs": [],
   "source": [
    "def aload():\n",
    "    op = opPop()\n",
    "    for i in op:\n",
    "        opPush(i)\n",
    "    opPush(op)"
   ]
  },
  {
   "cell_type": "code",
   "execution_count": 20,
   "metadata": {},
   "outputs": [],
   "source": [
    "def astore():\n",
    "    op = opPop()\n",
    "    j=len(op)\n",
    "    l1=[]\n",
    "    for i in range(0,j):\n",
    "        l1.append(opPop())\n",
    "    opPush(list(reversed(l1)))"
   ]
  },
  {
   "cell_type": "code",
   "execution_count": null,
   "metadata": {},
   "outputs": [],
   "source": [
    "#--------------------------- 6% -------------------------------------\n",
    "# Define the stack manipulation and print operators: dup, copy, count, pop, clear, exch, stack\n",
    "def dup():\n",
    "    if (len(opstack) > 0):\n",
    "        opPush(opstack[-1])\n",
    "    else:\n",
    "        print(\"Error: dup expects 2 operands\")"
   ]
  },
  {
   "cell_type": "code",
   "execution_count": null,
   "metadata": {},
   "outputs": [],
   "source": [
    "def copy():\n",
    "    if len(opstack) > 1:\n",
    "        op1 = opPop()\n",
    "        if (op1 <= len(opstack) + 1):\n",
    "            cl = []\n",
    "            while (op1 > 0):\n",
    "                cl.append(opPop())\n",
    "                op1 = op1 - 1\n",
    "            cl.reverse()\n",
    "            opstack.extend(cl)\n",
    "            opstack.extend(cl)\n",
    "        else:\n",
    "            print(\"Error: copy - one of the operands is not a numerical value\")\n",
    "    else:\n",
    "        print(\"Error: copy expects 2 operands\")"
   ]
  },
  {
   "cell_type": "code",
   "execution_count": null,
   "metadata": {},
   "outputs": [],
   "source": [
    "def count():\n",
    "    return len(opstack)"
   ]
  },
  {
   "cell_type": "code",
   "execution_count": null,
   "metadata": {},
   "outputs": [],
   "source": [
    "def pop():\n",
    "    if len(opstack) > 0:\n",
    "        opPop()\n",
    "    else:\n",
    "        print(\"Error: pop expects 2 operands\")"
   ]
  },
  {
   "cell_type": "code",
   "execution_count": null,
   "metadata": {},
   "outputs": [],
   "source": [
    "def clear():\n",
    "    opstack.clear()"
   ]
  },
  {
   "cell_type": "code",
   "execution_count": null,
   "metadata": {},
   "outputs": [],
   "source": [
    "def exch():\n",
    "    if len(opstack) > 1:\n",
    "        op2 = opPop()\n",
    "        op1 = opPop()\n",
    "        opPush(op2)\n",
    "        opPush(op1)\n",
    "    else:\n",
    "        print(\"Error: exch expects 2 operands\")"
   ]
  },
  {
   "cell_type": "code",
   "execution_count": 22,
   "metadata": {},
   "outputs": [],
   "source": [
    "def stack():\n",
    "    if len(opstack) > 0:\n",
    "        for i in range(0,len(opstack)):\n",
    "            print(opstack[i])"
   ]
  },
  {
   "cell_type": "code",
   "execution_count": null,
   "metadata": {},
   "outputs": [],
   "source": [
    "#--------------------------- 20% -------------------------------------\n",
    "# Define the dictionary manipulation operators: psDict, begin, end, psDef\n",
    "# name the function for the def operator psDef because def is reserved in Python. Similarly, call the function for dict operator as psDict.\n",
    "# Note: The psDef operator will pop the value and name from the opstack and call your own \"define\" operator (pass those values as parameters).\n",
    "# Note that psDef()won't have any parameters.\n",
    "def psDict():\n",
    "    s = opPop()\n",
    "    for i in range(s):\n",
    "        opPush(dict())"
   ]
  },
  {
   "cell_type": "code",
   "execution_count": null,
   "metadata": {},
   "outputs": [],
   "source": [
    "def begin():\n",
    "    if len(opstack) > 0:\n",
    "        op1 = opPop()\n",
    "        if isinstance(op1, dict):\n",
    "            dictPush(op1)\n",
    "        else:\n",
    "            print(\"Error: begin - one of the operands is not a numerical value\")\n",
    "    else:\n",
    "        print(\"Error: begin expects 2 operands\")"
   ]
  },
  {
   "cell_type": "code",
   "execution_count": null,
   "metadata": {},
   "outputs": [],
   "source": [
    "def end():\n",
    "    dictPop()"
   ]
  },
  {
   "cell_type": "code",
   "execution_count": 24,
   "metadata": {},
   "outputs": [],
   "source": [
    "def psDef():\n",
    "    if len(opstack) > 1:\n",
    "        op1 = opPop()\n",
    "        op2 = opPop()\n",
    "        define(op2,op1)\n",
    "    else:\n",
    "        print(\"Error: psDef expects 2 operands\")"
   ]
  }
 ],
 "metadata": {
  "kernelspec": {
   "display_name": "Python 3",
   "language": "python",
   "name": "python3"
  },
  "language_info": {
   "codemirror_mode": {
    "name": "ipython",
    "version": 3
   },
   "file_extension": ".py",
   "mimetype": "text/x-python",
   "name": "python",
   "nbconvert_exporter": "python",
   "pygments_lexer": "ipython3",
   "version": "3.7.4"
  }
 },
 "nbformat": 4,
 "nbformat_minor": 4
}
